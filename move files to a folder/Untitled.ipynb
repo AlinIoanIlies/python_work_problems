{
 "cells": [
  {
   "cell_type": "code",
   "execution_count": 23,
   "id": "874d8f65",
   "metadata": {},
   "outputs": [],
   "source": [
    "import os"
   ]
  },
  {
   "cell_type": "code",
   "execution_count": 24,
   "id": "0c8f78e4",
   "metadata": {},
   "outputs": [],
   "source": [
    "import shutil"
   ]
  },
  {
   "cell_type": "code",
   "execution_count": 39,
   "id": "cd5ead6a",
   "metadata": {},
   "outputs": [],
   "source": [
    "l=[]\n",
    "with open('moved.txt',mode='r') as f:\n",
    "    l=f.read()\n"
   ]
  },
  {
   "cell_type": "code",
   "execution_count": 40,
   "id": "42f279b1",
   "metadata": {},
   "outputs": [
    {
     "data": {
      "text/plain": [
       "'a.txt\\nb.txt\\ne.txt\\n\\n'"
      ]
     },
     "execution_count": 40,
     "metadata": {},
     "output_type": "execute_result"
    }
   ],
   "source": [
    "l"
   ]
  },
  {
   "cell_type": "code",
   "execution_count": 41,
   "id": "2097d014",
   "metadata": {},
   "outputs": [],
   "source": [
    "l=l.split('\\n')"
   ]
  },
  {
   "cell_type": "code",
   "execution_count": 42,
   "id": "b9b5f50f",
   "metadata": {},
   "outputs": [
    {
     "data": {
      "text/plain": [
       "['a.txt', 'b.txt', 'e.txt', '', '']"
      ]
     },
     "execution_count": 42,
     "metadata": {},
     "output_type": "execute_result"
    }
   ],
   "source": [
    "l"
   ]
  },
  {
   "cell_type": "code",
   "execution_count": 48,
   "id": "d6544ca5",
   "metadata": {},
   "outputs": [],
   "source": [
    "output=[]\n",
    "for element in l:\n",
    "    if element!='':\n",
    "        output.append(element)"
   ]
  },
  {
   "cell_type": "code",
   "execution_count": 46,
   "id": "23f1fb49",
   "metadata": {},
   "outputs": [
    {
     "data": {
      "text/plain": [
       "['a.txt', 'b.txt', 'e.txt']"
      ]
     },
     "execution_count": 46,
     "metadata": {},
     "output_type": "execute_result"
    }
   ],
   "source": [
    "output"
   ]
  },
  {
   "cell_type": "code",
   "execution_count": 44,
   "id": "38e525b7",
   "metadata": {},
   "outputs": [
    {
     "data": {
      "text/plain": [
       "['a.txt', 'b.txt', 'e.txt', '']"
      ]
     },
     "execution_count": 44,
     "metadata": {},
     "output_type": "execute_result"
    }
   ],
   "source": [
    "l"
   ]
  },
  {
   "cell_type": "code",
   "execution_count": 26,
   "id": "977a24a3",
   "metadata": {},
   "outputs": [
    {
     "data": {
      "text/plain": [
       "'a.txt'"
      ]
     },
     "execution_count": 26,
     "metadata": {},
     "output_type": "execute_result"
    }
   ],
   "source": []
  },
  {
   "cell_type": "code",
   "execution_count": 29,
   "id": "bd142e7e",
   "metadata": {},
   "outputs": [
    {
     "data": {
      "text/plain": [
       "range(0, 2)"
      ]
     },
     "execution_count": 29,
     "metadata": {},
     "output_type": "execute_result"
    }
   ],
   "source": []
  },
  {
   "cell_type": "code",
   "execution_count": 30,
   "id": "74085db8",
   "metadata": {},
   "outputs": [
    {
     "ename": "IndexError",
     "evalue": "list assignment index out of range",
     "output_type": "error",
     "traceback": [
      "\u001b[1;31m---------------------------------------------------------------------------\u001b[0m",
      "\u001b[1;31mIndexError\u001b[0m                                Traceback (most recent call last)",
      "\u001b[1;32mC:\\Users\\ALINIL~1\\AppData\\Local\\Temp/ipykernel_16572/65462943.py\u001b[0m in \u001b[0;36m<module>\u001b[1;34m\u001b[0m\n\u001b[0;32m      1\u001b[0m \u001b[0mt2\u001b[0m\u001b[1;33m=\u001b[0m\u001b[1;33m[\u001b[0m\u001b[1;33m]\u001b[0m\u001b[1;33m\u001b[0m\u001b[1;33m\u001b[0m\u001b[0m\n\u001b[0;32m      2\u001b[0m \u001b[1;32mfor\u001b[0m \u001b[0mi\u001b[0m \u001b[1;32min\u001b[0m \u001b[0mrange\u001b[0m\u001b[1;33m(\u001b[0m\u001b[0mlen\u001b[0m\u001b[1;33m(\u001b[0m\u001b[0mtest\u001b[0m\u001b[1;33m)\u001b[0m\u001b[1;33m-\u001b[0m\u001b[1;36m1\u001b[0m\u001b[1;33m)\u001b[0m\u001b[1;33m:\u001b[0m\u001b[1;33m\u001b[0m\u001b[1;33m\u001b[0m\u001b[0m\n\u001b[1;32m----> 3\u001b[1;33m     \u001b[0mt2\u001b[0m\u001b[1;33m[\u001b[0m\u001b[0mi\u001b[0m\u001b[1;33m]\u001b[0m\u001b[1;33m=\u001b[0m\u001b[1;34m'Red_'\u001b[0m\u001b[1;33m+\u001b[0m\u001b[0mtest\u001b[0m\u001b[1;33m[\u001b[0m\u001b[0mi\u001b[0m\u001b[1;33m]\u001b[0m\u001b[1;33m\u001b[0m\u001b[1;33m\u001b[0m\u001b[0m\n\u001b[0m\u001b[0;32m      4\u001b[0m \u001b[1;33m\u001b[0m\u001b[0m\n",
      "\u001b[1;31mIndexError\u001b[0m: list assignment index out of range"
     ]
    }
   ],
   "source": [
    "t2=[]\n",
    "for i in range(len(test)-1):\n",
    "    t2[i]='Red_'+test[i]\n",
    "    "
   ]
  },
  {
   "cell_type": "code",
   "execution_count": 49,
   "id": "63a786ef",
   "metadata": {},
   "outputs": [],
   "source": [
    "base=os.getcwd()\n",
    "folder='moved'\n",
    "if folder not in os.listdir():\n",
    "    path = os.path.join(base, folder)\n",
    "    os.mkdir(path)"
   ]
  },
  {
   "cell_type": "code",
   "execution_count": 50,
   "id": "d3e88852",
   "metadata": {},
   "outputs": [
    {
     "data": {
      "text/plain": [
       "'D:\\\\work\\\\curs python complet\\\\teste\\\\mutat_3\\\\moved'"
      ]
     },
     "execution_count": 50,
     "metadata": {},
     "output_type": "execute_result"
    }
   ],
   "source": [
    "path"
   ]
  },
  {
   "cell_type": "code",
   "execution_count": 51,
   "id": "64c85e21",
   "metadata": {},
   "outputs": [
    {
     "name": "stdout",
     "output_type": "stream",
     "text": [
      "e.txt,\t\n"
     ]
    }
   ],
   "source": [
    "for element in output:\n",
    "    try:\n",
    "        shutil.move(element,path)\n",
    "    except:\n",
    "        print(f'{element},\\t')"
   ]
  },
  {
   "cell_type": "code",
   "execution_count": null,
   "id": "569e62e0",
   "metadata": {},
   "outputs": [],
   "source": []
  },
  {
   "cell_type": "code",
   "execution_count": null,
   "id": "5fda2137",
   "metadata": {},
   "outputs": [],
   "source": []
  }
 ],
 "metadata": {
  "kernelspec": {
   "display_name": "Python 3 (ipykernel)",
   "language": "python",
   "name": "python3"
  },
  "language_info": {
   "codemirror_mode": {
    "name": "ipython",
    "version": 3
   },
   "file_extension": ".py",
   "mimetype": "text/x-python",
   "name": "python",
   "nbconvert_exporter": "python",
   "pygments_lexer": "ipython3",
   "version": "3.9.7"
  }
 },
 "nbformat": 4,
 "nbformat_minor": 5
}
