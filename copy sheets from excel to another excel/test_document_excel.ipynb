{
 "cells": [
  {
   "cell_type": "code",
   "execution_count": 1,
   "id": "b586b3e8",
   "metadata": {},
   "outputs": [],
   "source": [
    "import pandas as pd"
   ]
  },
  {
   "cell_type": "code",
   "execution_count": null,
   "id": "a54c1f30",
   "metadata": {},
   "outputs": [],
   "source": []
  },
  {
   "cell_type": "code",
   "execution_count": 2,
   "id": "ec3c5bfa",
   "metadata": {},
   "outputs": [],
   "source": [
    "nume_sheets=[]\n",
    "\n",
    "with open('test.txt','r') as f:\n",
    "    x=f.readlines()\n",
    "    for elem in x:\n",
    "        nume_sheets.append(elem.replace('\\n',''))"
   ]
  },
  {
   "cell_type": "code",
   "execution_count": 3,
   "id": "a83c959a",
   "metadata": {},
   "outputs": [
    {
     "data": {
      "text/plain": [
       "['test', 'a', 'b', 'e']"
      ]
     },
     "execution_count": 3,
     "metadata": {},
     "output_type": "execute_result"
    }
   ],
   "source": [
    "nume_sheets"
   ]
  },
  {
   "cell_type": "code",
   "execution_count": null,
   "id": "186c9c03",
   "metadata": {},
   "outputs": [],
   "source": []
  },
  {
   "cell_type": "code",
   "execution_count": null,
   "id": "8c227969",
   "metadata": {},
   "outputs": [],
   "source": []
  },
  {
   "cell_type": "code",
   "execution_count": null,
   "id": "b8b42680",
   "metadata": {},
   "outputs": [],
   "source": []
  },
  {
   "cell_type": "code",
   "execution_count": 4,
   "id": "6ff5c521",
   "metadata": {},
   "outputs": [
    {
     "name": "stdout",
     "output_type": "stream",
     "text": [
      "test\n",
      "e\n"
     ]
    }
   ],
   "source": [
    "with pd.ExcelWriter(\"export_sheets.xlsx\") as writer:\n",
    "    for nume in nume_sheets:\n",
    "        try:\n",
    "            df=pd.read_excel('All_sheets.xlsx',nume)\n",
    "            df.to_excel(writer, sheet_name=nume,header=False, index=False)\n",
    "        except:\n",
    "            print(nume)"
   ]
  },
  {
   "cell_type": "code",
   "execution_count": null,
   "id": "2c62838c",
   "metadata": {},
   "outputs": [],
   "source": []
  }
 ],
 "metadata": {
  "kernelspec": {
   "display_name": "Python 3 (ipykernel)",
   "language": "python",
   "name": "python3"
  },
  "language_info": {
   "codemirror_mode": {
    "name": "ipython",
    "version": 3
   },
   "file_extension": ".py",
   "mimetype": "text/x-python",
   "name": "python",
   "nbconvert_exporter": "python",
   "pygments_lexer": "ipython3",
   "version": "3.9.7"
  }
 },
 "nbformat": 4,
 "nbformat_minor": 5
}
