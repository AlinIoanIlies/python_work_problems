{
 "cells": [
  {
   "cell_type": "code",
   "execution_count": 1,
   "id": "cfeed272",
   "metadata": {},
   "outputs": [],
   "source": [
    "import cv2\n",
    "import pytesseract"
   ]
  },
  {
   "cell_type": "code",
   "execution_count": 2,
   "id": "ae0afbab",
   "metadata": {},
   "outputs": [],
   "source": [
    "img = cv2.imread('ts_v2.jpg')\n",
    "config = ('-l eng --oem 1 --psm 3')"
   ]
  },
  {
   "cell_type": "code",
   "execution_count": 3,
   "id": "f59590c7",
   "metadata": {},
   "outputs": [],
   "source": [
    "pytesseract.pytesseract.tesseract_cmd = 'C:/Program Files/Tesseract-OCR/tesseract.exe'\n",
    "text2 = pytesseract.image_to_string(img, config=config)"
   ]
  },
  {
   "cell_type": "code",
   "execution_count": 4,
   "id": "d002fb4a",
   "metadata": {},
   "outputs": [
    {
     "ename": "NameError",
     "evalue": "name 'text' is not defined",
     "output_type": "error",
     "traceback": [
      "\u001b[1;31m---------------------------------------------------------------------------\u001b[0m",
      "\u001b[1;31mNameError\u001b[0m                                 Traceback (most recent call last)",
      "Input \u001b[1;32mIn [4]\u001b[0m, in \u001b[0;36m<cell line: 1>\u001b[1;34m()\u001b[0m\n\u001b[1;32m----> 1\u001b[0m text \u001b[38;5;241m=\u001b[39m \u001b[43mtext\u001b[49m\u001b[38;5;241m.\u001b[39msplit(\u001b[38;5;124m'\u001b[39m\u001b[38;5;130;01m\\n\u001b[39;00m\u001b[38;5;124m'\u001b[39m)\n\u001b[0;32m      2\u001b[0m \u001b[38;5;28mprint\u001b[39m(text)\n",
      "\u001b[1;31mNameError\u001b[0m: name 'text' is not defined"
     ]
    }
   ],
   "source": [
    "text = text.split('\\n')\n",
    "print(text)"
   ]
  },
  {
   "cell_type": "code",
   "execution_count": 5,
   "id": "9f37ccbe",
   "metadata": {},
   "outputs": [
    {
     "name": "stdout",
     "output_type": "stream",
     "text": [
      "Test Date 44/2009 2/9/2008 10/24/2008\n",
      "HVAC\n",
      "\n",
      "Test station current In Comments Latitude Longitude\n",
      "DC P/S Inv amps ]DC PS Inv\n",
      "\n",
      "Pie N38.86032 | Ww109.95810\n",
      "\n",
      "2 161] 0.762 -0.382 0.84 -0.567} 0.890] — Testpost N38.86052 W109.95613\n",
      "\n",
      "3 -1129| 3.000 -0.376 53 -0.685] 4700] _Testpost N38.84341_ | W109.93598\n",
      "\n",
      "4 -1140| 5.000 -0.372 8 -0.696| 4500] _Testpost N38.83427_| w9.92068\n",
      "\n",
      "5 -1122| 5200 0.37 10 -0.680| 5.000] — Testpost N38.826% W109.90705\n",
      "\n",
      "6 -1122| 5200 -0.382 ie) -0.689| 6.450| — Testpost N38.8680 w109.8985\n",
      "\n",
      "-1138| 4.500 7.900 Bianzone N38.81302 W109.88510\n",
      "\n",
      "Z -1048| 10.000 -0.349 19 -0.693| 8.290] _Testpost N38.80724 W109.87535\n",
      "\n",
      "8 0918} 600 -0.335 13.79 -0.586} 5.900 Testpost N38.79848 W9.85880\n",
      "\n",
      "9 -0970| 3.600 -0.344 87 -0.60] 2700]  Testpost N38.789%8 W9.84320\n",
      "\n",
      "0 -0.480] 1350 -0.356 3 -0.6%] 1860] — Testpost N38.78045 | W19.82862\n",
      "\n",
      "1 0.383] 1734 -0.343 54 -0.696| 1600] _Testpost N38.77051 w109 81199\n",
      "\n",
      "2 0.398] 5.000 -0.696| 2900] _ Testpost N38.75398 W9.78434\n",
      "\n",
      "B -1051] 9.100 -0.362 20 -0.60] 2400] — Testpost N38.74631 W109.77539\n",
      "\n",
      "Block ValveU/S| _N38.74593 W109.77504\n",
      "\n",
      "\n"
     ]
    }
   ],
   "source": [
    "print(text2)"
   ]
  },
  {
   "cell_type": "code",
   "execution_count": 22,
   "id": "f1981026",
   "metadata": {},
   "outputs": [],
   "source": [
    "file = open(\"recognized.txt\", \"w\")"
   ]
  },
  {
   "cell_type": "code",
   "execution_count": 23,
   "id": "a98dcd4b",
   "metadata": {},
   "outputs": [],
   "source": [
    "file.write(text2) \n",
    "\n",
    "file.close()"
   ]
  },
  {
   "cell_type": "code",
   "execution_count": 24,
   "id": "66ceb5cf",
   "metadata": {},
   "outputs": [
    {
     "name": "stdout",
     "output_type": "stream",
     "text": [
      "Test Date 44/2009 2/9/2008 10/24/2008\n",
      "HVAC\n",
      "\n",
      "Test station current In Comments Latitude Longitude\n",
      "DC P/S Inv amps ]DC PS Inv\n",
      "\n",
      "Pie N38.86032 | Ww109.95810\n",
      "\n",
      "2 161] 0.762 -0.382 0.84 -0.567} 0.890] — Testpost N38.86052 W109.95613\n",
      "\n",
      "3 -1129| 3.000 -0.376 53 -0.685] 4700] _Testpost N38.84341_ | W109.93598\n",
      "\n",
      "4 -1140| 5.000 -0.372 8 -0.696| 4500] _Testpost N38.83427_| w9.92068\n",
      "\n",
      "5 -1122| 5200 0.37 10 -0.680| 5.000] — Testpost N38.826% W109.90705\n",
      "\n",
      "6 -1122| 5200 -0.382 ie) -0.689| 6.450| — Testpost N38.8680 w109.8985\n",
      "\n",
      "-1138| 4.500 7.900 Bianzone N38.81302 W109.88510\n",
      "\n",
      "Z -1048| 10.000 -0.349 19 -0.693| 8.290] _Testpost N38.80724 W109.87535\n",
      "\n",
      "8 0918} 600 -0.335 13.79 -0.586} 5.900 Testpost N38.79848 W9.85880\n",
      "\n",
      "9 -0970| 3.600 -0.344 87 -0.60] 2700]  Testpost N38.789%8 W9.84320\n",
      "\n",
      "0 -0.480] 1350 -0.356 3 -0.6%] 1860] — Testpost N38.78045 | W19.82862\n",
      "\n",
      "1 0.383] 1734 -0.343 54 -0.696| 1600] _Testpost N38.77051 w109 81199\n",
      "\n",
      "2 0.398] 5.000 -0.696| 2900] _ Testpost N38.75398 W9.78434\n",
      "\n",
      "B -1051] 9.100 -0.362 20 -0.60] 2400] — Testpost N38.74631 W109.77539\n",
      "\n",
      "Block ValveU/S| _N38.74593 W109.77504\n",
      "\n",
      "\n"
     ]
    }
   ],
   "source": [
    "print(text2)"
   ]
  },
  {
   "cell_type": "code",
   "execution_count": null,
   "id": "7c572a6f",
   "metadata": {},
   "outputs": [],
   "source": []
  }
 ],
 "metadata": {
  "kernelspec": {
   "display_name": "Python 3 (ipykernel)",
   "language": "python",
   "name": "python3"
  },
  "language_info": {
   "codemirror_mode": {
    "name": "ipython",
    "version": 3
   },
   "file_extension": ".py",
   "mimetype": "text/x-python",
   "name": "python",
   "nbconvert_exporter": "python",
   "pygments_lexer": "ipython3",
   "version": "3.9.7"
  }
 },
 "nbformat": 4,
 "nbformat_minor": 5
}
